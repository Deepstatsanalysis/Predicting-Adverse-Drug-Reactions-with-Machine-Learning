{
 "cells": [
  {
   "cell_type": "markdown",
   "metadata": {},
   "source": [
    "<h1>Predicting Adverse Drug Reactions With Machine Learning</h1>"
   ]
  },
  {
   "cell_type": "code",
   "execution_count": 1,
   "metadata": {},
   "outputs": [
    {
     "data": {
      "text/plain": [
       "' Careful when importing saved dataframes with label names as indexes -> index = True '"
      ]
     },
     "execution_count": 1,
     "metadata": {},
     "output_type": "execute_result"
    }
   ],
   "source": [
    "# Misc\n",
    "from sklearn.model_selection import train_test_split\n",
    "from pprint import pprint\n",
    "import matplotlib.pyplot as plt\n",
    "from IPython.display import Image\n",
    "%matplotlib inline\n",
    "\n",
    "# Functions\n",
    "from mlprocess import *\n",
    "from params_by_label import *\n",
    "\n",
    "# Fixing the seed\n",
    "seed = 6\n",
    "np.random.seed(seed)\n",
    "\n",
    "\"\"\" Careful when importing saved dataframes with label names as indexes -> index = True \"\"\""
   ]
  },
  {
   "cell_type": "markdown",
   "metadata": {},
   "source": [
    "<h2>1. Introduction</h2>\n",
    "<p>The objective of this work is to develop machine learning (ML) methods that can accurately predict adverse drug reactions (ADRs) using databases like SIDER and OFFSIDES.</p> \n",
    "<h2>2. Methods</h2>\n",
    "<h3>2.1 Methods</h3>\n",
    "<p>One of the most important factors when using ML methods are the datasets used to train, validate and test the model. In this work, 3 different ones will be used at different stages, shown in table 1.</p> "
   ]
  },
  {
   "cell_type": "markdown",
   "metadata": {},
   "source": [
    "<style type=\"text/css\">\n",
    ".tg  {border-collapse:collapse;border-spacing:0;}\n",
    ".tg td{font-family:Arial, sans-serif;font-size:14px;padding:10px 5px;border-style:solid;border-width:1px;overflow:hidden;word-break:normal;border-color:black;}\n",
    ".tg th{font-family:Arial, sans-serif;font-size:14px;font-weight:normal;padding:10px 5px;border-style:solid;border-width:1px;overflow:hidden;word-break:normal;border-color:black;}\n",
    ".tg .tg-0lax{text-align:left;vertical-align:top}\n",
    "</style>\n",
    "<table class=\"tg\">\n",
    "  <tr>\n",
    "    <th class=\"tg-0lax\"><span style=\"font-weight:bold\">Dataset</span></th>\n",
    "    <th class=\"tg-0lax\"><span style=\"font-weight:bold\">Description</span></th>\n",
    "  </tr>\n",
    "  <tr>\n",
    "    <td class=\"tg-0lax\">SIDER 4</td>\n",
    "    <td class=\"tg-0lax\">1427 Approved drugs with ADRs text-mined from drug package inserts grouped into 27 system organ classes following <br>MedDRA classification</td>\n",
    "  </tr>\n",
    "  <tr>\n",
    "    <td class=\"tg-0lax\">OFFSIDES</td>\n",
    "    <td class=\"tg-0lax\">Database of off-label side effects</td>\n",
    "  </tr>\n",
    "</table>"
   ]
  },
  {
   "cell_type": "markdown",
   "metadata": {},
   "source": [
    "<h3>2.2 Features</h3>\n",
    "<p>Features are the set of attributes associated with the example that try to represent the dataset.</p> \n",
    "<p>SMILES strings are commonly used to represent molecules, as is used in SIDER, and they will be the basis of this work. But, even though they are a unique representation of molecules, they are not enough to use as a feature in ML. Because of this, they will be used as a way to generate other features like fingerprints and molecular descriptors using tools like RDKit in Python.</p> \n",
    "\n",
    "<h3>2.3 Machine Learning Methods</h3>\n",
    "<p>SMILES strings are commonly used to represent molecules, as is used in SIDER, and they were the basis of this work. But, even though they are a unique representation of molecules, they are not enough to use as a feature in ML. Because of this, they were also used as a way to generate other features like fingerprints and molecular descriptors using tools like RDKit in Python.</p>\n",
    "\n",
    "The general workflow for the datasets when in SIDER format is displayed in the following figure:\n",
    "\n",
    "<img src=\"jupyter_images/sider.png\" alt=\"Drawing\" style=\"width: 600px;\"/>"
   ]
  },
  {
   "cell_type": "markdown",
   "metadata": {},
   "source": [
    "The SIDER dataset consists of a first column with the molecules' SMILES representation and other twenty-seven columns with the different SOCs. Three of these SOCs were not used since they had no real connection with the molecule and, as such, the development of ML models to predict these labels was not useful, these were 'Product Issues', 'Investigations', and 'Social circumstances'. \n",
    "\n",
    "With the SMILES representation, it was possible to create multiple different features using RDKit, mainly fingerprint and other descriptors, for example, molecular weight, number of radical electrons, and number of valence electrons. We used these to add relevant information that complements the fingerprint. \n",
    "\n",
    "In total, 27 descriptors were calculated for each molecule, not every descriptor was useful and, as such, some selection was required. But, since we had 24 different classification tasks, each with an independent model, and different descriptors had a different importance for each of them, this selection was made independently for each task, what resulted in 24 different DataFrames consisting in the fingerprint representation plus the 3 (after testing different values) descriptors selected to each task. Example in the following table:"
   ]
  },
  {
   "cell_type": "code",
   "execution_count": 2,
   "metadata": {},
   "outputs": [
    {
     "name": "stdout",
     "output_type": "stream",
     "text": [
      "Creating Dataframes\n"
     ]
    }
   ],
   "source": [
    "# Creating base df_molecules, df_y with the results vectors, and df_mols_descr with the descriptors\n",
    "print(\"Creating Dataframes\")\n",
    "y_all, df_molecules = create_original_df(write_s=False)\n",
    "df_molecules.drop(\"smiles\", axis=1, inplace=True)\n",
    "todrop = [\"Product issues\", \"Investigations\", \"Social circumstances\"]\n",
    "y_all.drop(todrop, axis=1, inplace=True)  # No real connection with the molecule, multiple problems\n",
    "out_names = y_all.columns.tolist()  # Get class labels\n",
    "\n",
    "# Separating in a DF_mols_train and an Df_mols_test, in order to avoid data snooping and fitting the model to the test\n",
    "df_mols_train, df_mols_test, y_train, y_test = train_test_split(df_molecules, y_all, test_size=0.2, random_state=seed)\n",
    "\n",
    "# Fingerprint length\n",
    "#all_df_results_svc = test_fingerprint_size(df_mols_train, y_train, SVC(gamma=\"scale\", random_state=seed), makeplots=True, write=False)\n",
    "# Best result with ECFP-4 at 1125 - This will be used to all results\n"
   ]
  },
  {
   "cell_type": "code",
   "execution_count": 3,
   "metadata": {},
   "outputs": [
    {
     "name": "stderr",
     "output_type": "stream",
     "text": [
      "100%|█████████████████████████████████████████████████████████████████████████████████| 24/24 [00:00<00:00, 112.05it/s]\n"
     ]
    }
   ],
   "source": [
    "\n",
    "# Create X datasets with fingerprint length\n",
    "X_all, _, _, _ = createfingerprints(df_molecules, length=1125)\n",
    "X_train_fp, _, _, _ = createfingerprints(df_mols_train, length=1125)\n",
    "X_test_fp, _, _, _ = createfingerprints(df_mols_test, length=1125)\n",
    "\n",
    "# Selects and create descriptors dataset\n",
    "df_desc = createdescriptors(df_molecules)  # Create all descriptors\n",
    "\n",
    "# Splits in train and test\n",
    "df_desc_base_train, df_desc_base_test = train_test_split(df_desc, test_size=0.2, random_state=seed)\n",
    "\n",
    "# Creates a dictionary with key = class label and value = dataframe with fingerprint + best K descriptors for that label\n",
    "X_train_dic, X_test_dic, selected_cols = create_dataframes_dic(df_desc_base_train, df_desc_base_test, X_train_fp,\n",
    "                                                               X_test_fp, y_train, out_names, score_func=f_classif, k=3)\n",
    "# Creates a y dictionary for all labels\n",
    "y_train_dic = {name: y_train[name] for name in out_names}\n",
    "modelnamesvc = {name: \"SVC\" for name in out_names}\n",
    "modelnamerf = {name: \"RF\" for name in out_names}\n",
    "modelnamexgb = {name: \"XGB\" for name in out_names}\n",
    "modelnamevot = {name: \"VotingClassifier\" for name in out_names}"
   ]
  },
  {
   "cell_type": "code",
   "execution_count": 4,
   "metadata": {},
   "outputs": [
    {
     "data": {
      "text/plain": [
       "<matplotlib.axes._subplots.AxesSubplot at 0x14c6e83d8d0>"
      ]
     },
     "execution_count": 4,
     "metadata": {},
     "output_type": "execute_result"
    },
    {
     "data": {
      "image/png": "[encoded data removed]",
      "text/plain": [
       "<Figure size 1008x576 with 1 Axes>"
      ]
     },
     "metadata": {
      "needs_background": "light"
     },
     "output_type": "display_data"
    }
   ],
   "source": [
    "d = {\"Positives\": y_all.sum(axis=0), \"Negatives\": 1427 - y_all.sum(axis=0)}\n",
    "countsm = pd.DataFrame(data=d)\n",
    "df_perc = countsm / 1427\n",
    "countsm.plot(kind='bar', figsize=(14, 8), title=\"Adverse Drug Reactions Counts\", ylim=(0, 1500), stacked=True)"
   ]
  },
  {
   "cell_type": "code",
   "execution_count": 5,
   "metadata": {},
   "outputs": [
    {
     "name": "stdout",
     "output_type": "stream",
     "text": [
      "SVC\n",
      "Base SVC without balancing:\n"
     ]
    },
    {
     "name": "stderr",
     "output_type": "stream",
     "text": [
      "\r",
      "  0%|                                                                                           | 0/24 [00:00<?, ?it/s]"
     ]
    },
    {
     "name": "stdout",
     "output_type": "stream",
     "text": [
      "\n",
      "Scores for Hepatobiliary disorders\n",
      "\n",
      "Individual metrics\n",
      "F1 Micro Score: Mean: 0.643 (Std: 0.037)\n",
      "F1 Macro Score: Mean: 0.622 (Std: 0.042)\n",
      "F1 Binary Score: Mean: 0.712 (Std: 0.027)\n",
      "ROC-AUC score: Mean: 0.676 (Std: 0.050)\n",
      "Recall score: Mean: 0.851 (Std: 0.023)\n",
      "Precision score: Mean: 0.612 (Std: 0.028)\n",
      "Average Precision score: Mean: 0.660 (Std: 0.049)\n",
      "\n"
     ]
    },
    {
     "name": "stderr",
     "output_type": "stream",
     "text": [
      "\r",
      "  4%|███▍                                                                               | 1/24 [00:05<02:13,  5.81s/it]"
     ]
    },
    {
     "name": "stdout",
     "output_type": "stream",
     "text": [
      "\n",
      "Scores for Metabolism and nutrition disorders\n",
      "\n",
      "Individual metrics\n",
      "F1 Micro Score: Mean: 0.692 (Std: 0.001)\n",
      "F1 Macro Score: Mean: 0.409 (Std: 0.000)\n",
      "F1 Binary Score: Mean: 0.818 (Std: 0.001)\n",
      "ROC-AUC score: Mean: 0.565 (Std: 0.044)\n",
      "Recall score: Mean: 1.000 (Std: 0.000)\n",
      "Precision score: Mean: 0.692 (Std: 0.001)\n",
      "Average Precision score: Mean: 0.732 (Std: 0.031)\n",
      "\n"
     ]
    },
    {
     "name": "stderr",
     "output_type": "stream",
     "text": [
      "\r",
      "  8%|██████▉                                                                            | 2/24 [00:09<01:56,  5.30s/it]"
     ]
    },
    {
     "name": "stdout",
     "output_type": "stream",
     "text": [
      "\n",
      "Scores for Eye disorders\n",
      "\n",
      "Individual metrics\n",
      "F1 Micro Score: Mean: 0.624 (Std: 0.011)\n",
      "F1 Macro Score: Mean: 0.430 (Std: 0.017)\n",
      "F1 Binary Score: Mean: 0.763 (Std: 0.007)\n",
      "ROC-AUC score: Mean: 0.597 (Std: 0.039)\n",
      "Recall score: Mean: 0.984 (Std: 0.012)\n",
      "Precision score: Mean: 0.622 (Std: 0.006)\n",
      "Average Precision score: Mean: 0.687 (Std: 0.023)\n",
      "\n"
     ]
    },
    {
     "name": "stderr",
     "output_type": "stream",
     "text": [
      "\r",
      " 12%|██████████▍                                                                        | 3/24 [00:14<01:44,  4.97s/it]"
     ]
    },
    {
     "name": "stdout",
     "output_type": "stream",
     "text": [
      "\n",
      "Scores for Musculoskeletal and connective tissue disorders\n",
      "\n",
      "Individual metrics\n",
      "F1 Micro Score: Mean: 0.687 (Std: 0.001)\n",
      "F1 Macro Score: Mean: 0.407 (Std: 0.000)\n",
      "F1 Binary Score: Mean: 0.815 (Std: 0.001)\n",
      "ROC-AUC score: Mean: 0.648 (Std: 0.040)\n",
      "Recall score: Mean: 1.000 (Std: 0.000)\n",
      "Precision score: Mean: 0.687 (Std: 0.001)\n",
      "Average Precision score: Mean: 0.802 (Std: 0.025)\n",
      "\n"
     ]
    },
    {
     "name": "stderr",
     "output_type": "stream",
     "text": [
      "\r",
      " 17%|█████████████▊                                                                     | 4/24 [00:17<01:30,  4.53s/it]"
     ]
    },
    {
     "name": "stdout",
     "output_type": "stream",
     "text": [
      "\n",
      "Scores for Gastrointestinal disorders\n",
      "\n",
      "Individual metrics\n",
      "F1 Micro Score: Mean: 0.907 (Std: 0.002)\n",
      "F1 Macro Score: Mean: 0.476 (Std: 0.000)\n",
      "F1 Binary Score: Mean: 0.951 (Std: 0.001)\n",
      "ROC-AUC score: Mean: 0.672 (Std: 0.031)\n",
      "Recall score: Mean: 1.000 (Std: 0.000)\n",
      "Precision score: Mean: 0.907 (Std: 0.002)\n",
      "Average Precision score: Mean: 0.945 (Std: 0.008)\n",
      "\n"
     ]
    },
    {
     "name": "stderr",
     "output_type": "stream",
     "text": [
      "\r",
      " 21%|█████████████████▎                                                                 | 5/24 [00:19<01:08,  3.61s/it]"
     ]
    },
    {
     "name": "stdout",
     "output_type": "stream",
     "text": [
      "\n",
      "Scores for Immune system disorders\n",
      "\n",
      "Individual metrics\n",
      "F1 Micro Score: Mean: 0.726 (Std: 0.001)\n",
      "F1 Macro Score: Mean: 0.421 (Std: 0.000)\n",
      "F1 Binary Score: Mean: 0.841 (Std: 0.001)\n",
      "ROC-AUC score: Mean: 0.559 (Std: 0.018)\n",
      "Recall score: Mean: 1.000 (Std: 0.000)\n",
      "Precision score: Mean: 0.726 (Std: 0.001)\n",
      "Average Precision score: Mean: 0.777 (Std: 0.016)\n",
      "\n"
     ]
    },
    {
     "name": "stderr",
     "output_type": "stream",
     "text": [
      "\r",
      " 25%|████████████████████▊                                                              | 6/24 [00:22<01:02,  3.47s/it]"
     ]
    },
    {
     "name": "stdout",
     "output_type": "stream",
     "text": [
      "\n",
      "Scores for Reproductive system and breast disorders\n",
      "\n",
      "Individual metrics\n",
      "F1 Micro Score: Mean: 0.608 (Std: 0.021)\n",
      "F1 Macro Score: Mean: 0.608 (Std: 0.021)\n",
      "F1 Binary Score: Mean: 0.609 (Std: 0.028)\n",
      "ROC-AUC score: Mean: 0.652 (Std: 0.029)\n",
      "Recall score: Mean: 0.611 (Std: 0.045)\n",
      "Precision score: Mean: 0.608 (Std: 0.020)\n",
      "Average Precision score: Mean: 0.625 (Std: 0.032)\n",
      "\n"
     ]
    },
    {
     "name": "stderr",
     "output_type": "stream",
     "text": [
      "\r",
      " 29%|████████████████████████▏                                                          | 7/24 [00:26<01:02,  3.69s/it]"
     ]
    },
    {
     "name": "stdout",
     "output_type": "stream",
     "text": [
      "\n",
      "Scores for Neoplasms benign, malignant and unspecified (incl cysts and polyps)\n",
      "\n",
      "Individual metrics\n",
      "F1 Micro Score: Mean: 0.745 (Std: 0.001)\n",
      "F1 Macro Score: Mean: 0.427 (Std: 0.000)\n",
      "F1 Binary Score: Mean: 0.000 (Std: 0.000)\n",
      "ROC-AUC score: Mean: 0.679 (Std: 0.018)\n",
      "Recall score: Mean: 0.000 (Std: 0.000)\n",
      "Precision score: Mean: 0.000 (Std: 0.000)\n",
      "Average Precision score: Mean: 0.470 (Std: 0.043)\n",
      "\n"
     ]
    },
    {
     "name": "stderr",
     "output_type": "stream",
     "text": [
      "\r",
      " 33%|███████████████████████████▋                                                       | 8/24 [00:29<00:55,  3.45s/it]"
     ]
    },
    {
     "name": "stdout",
     "output_type": "stream",
     "text": [
      "\n",
      "Scores for General disorders and administration site conditions\n",
      "\n",
      "Individual metrics\n",
      "F1 Micro Score: Mean: 0.910 (Std: 0.002)\n",
      "F1 Macro Score: Mean: 0.476 (Std: 0.000)\n",
      "F1 Binary Score: Mean: 0.953 (Std: 0.001)\n",
      "ROC-AUC score: Mean: 0.603 (Std: 0.037)\n",
      "Recall score: Mean: 1.000 (Std: 0.000)\n",
      "Precision score: Mean: 0.910 (Std: 0.002)\n",
      "Average Precision score: Mean: 0.938 (Std: 0.012)\n",
      "\n"
     ]
    },
    {
     "name": "stderr",
     "output_type": "stream",
     "text": [
      "\r",
      " 38%|███████████████████████████████▏                                                   | 9/24 [00:30<00:43,  2.91s/it]"
     ]
    },
    {
     "name": "stdout",
     "output_type": "stream",
     "text": [
      "\n",
      "Scores for Endocrine disorders\n",
      "\n",
      "Individual metrics\n",
      "F1 Micro Score: Mean: 0.786 (Std: 0.001)\n",
      "F1 Macro Score: Mean: 0.440 (Std: 0.000)\n",
      "F1 Binary Score: Mean: 0.000 (Std: 0.000)\n",
      "ROC-AUC score: Mean: 0.631 (Std: 0.037)\n",
      "Recall score: Mean: 0.000 (Std: 0.000)\n",
      "Precision score: Mean: 0.000 (Std: 0.000)\n",
      "Average Precision score: Mean: 0.391 (Std: 0.072)\n",
      "\n"
     ]
    },
    {
     "name": "stderr",
     "output_type": "stream",
     "text": [
      "\r",
      " 42%|██████████████████████████████████▏                                               | 10/24 [00:33<00:40,  2.89s/it]"
     ]
    },
    {
     "name": "stdout",
     "output_type": "stream",
     "text": [
      "\n",
      "Scores for Surgical and medical procedures\n",
      "\n",
      "Individual metrics\n",
      "F1 Micro Score: Mean: 0.855 (Std: 0.001)\n",
      "F1 Macro Score: Mean: 0.461 (Std: 0.000)\n",
      "F1 Binary Score: Mean: 0.000 (Std: 0.000)\n",
      "ROC-AUC score: Mean: 0.527 (Std: 0.061)\n",
      "Recall score: Mean: 0.000 (Std: 0.000)\n",
      "Precision score: Mean: 0.000 (Std: 0.000)\n",
      "Average Precision score: Mean: 0.187 (Std: 0.049)\n",
      "\n"
     ]
    },
    {
     "name": "stderr",
     "output_type": "stream",
     "text": [
      "\r",
      " 46%|█████████████████████████████████████▌                                            | 11/24 [00:37<00:39,  3.01s/it]"
     ]
    },
    {
     "name": "stdout",
     "output_type": "stream",
     "text": [
      "\n",
      "Scores for Vascular disorders\n",
      "\n",
      "Individual metrics\n",
      "F1 Micro Score: Mean: 0.769 (Std: 0.001)\n",
      "F1 Macro Score: Mean: 0.435 (Std: 0.000)\n",
      "F1 Binary Score: Mean: 0.869 (Std: 0.001)\n",
      "ROC-AUC score: Mean: 0.577 (Std: 0.050)\n",
      "Recall score: Mean: 1.000 (Std: 0.000)\n",
      "Precision score: Mean: 0.769 (Std: 0.001)\n",
      "Average Precision score: Mean: 0.817 (Std: 0.025)\n",
      "\n"
     ]
    },
    {
     "name": "stderr",
     "output_type": "stream",
     "text": [
      "\r",
      " 50%|█████████████████████████████████████████                                         | 12/24 [00:40<00:35,  2.99s/it]"
     ]
    },
    {
     "name": "stdout",
     "output_type": "stream",
     "text": [
      "\n",
      "Scores for Blood and lymphatic system disorders\n",
      "\n",
      "Individual metrics\n",
      "F1 Micro Score: Mean: 0.633 (Std: 0.014)\n",
      "F1 Macro Score: Mean: 0.458 (Std: 0.023)\n",
      "F1 Binary Score: Mean: 0.766 (Std: 0.009)\n",
      "ROC-AUC score: Mean: 0.661 (Std: 0.030)\n",
      "Recall score: Mean: 0.981 (Std: 0.015)\n",
      "Precision score: Mean: 0.628 (Std: 0.007)\n",
      "Average Precision score: Mean: 0.742 (Std: 0.028)\n",
      "\n"
     ]
    },
    {
     "name": "stderr",
     "output_type": "stream",
     "text": [
      "\r",
      " 54%|████████████████████████████████████████████▍                                     | 13/24 [00:44<00:36,  3.29s/it]"
     ]
    },
    {
     "name": "stdout",
     "output_type": "stream",
     "text": [
      "\n",
      "Scores for Skin and subcutaneous tissue disorders\n",
      "\n",
      "Individual metrics\n",
      "F1 Micro Score: Mean: 0.927 (Std: 0.002)\n",
      "F1 Macro Score: Mean: 0.481 (Std: 0.000)\n",
      "F1 Binary Score: Mean: 0.962 (Std: 0.001)\n",
      "ROC-AUC score: Mean: 0.593 (Std: 0.046)\n",
      "Recall score: Mean: 1.000 (Std: 0.000)\n",
      "Precision score: Mean: 0.927 (Std: 0.002)\n",
      "Average Precision score: Mean: 0.949 (Std: 0.009)\n",
      "\n"
     ]
    },
    {
     "name": "stderr",
     "output_type": "stream",
     "text": [
      "\r",
      " 58%|███████████████████████████████████████████████▊                                  | 14/24 [00:45<00:27,  2.71s/it]"
     ]
    },
    {
     "name": "stdout",
     "output_type": "stream",
     "text": [
      "\n",
      "Scores for Congenital, familial and genetic disorders\n",
      "\n",
      "Individual metrics\n",
      "F1 Micro Score: Mean: 0.824 (Std: 0.001)\n",
      "F1 Macro Score: Mean: 0.452 (Std: 0.000)\n",
      "F1 Binary Score: Mean: 0.000 (Std: 0.000)\n",
      "ROC-AUC score: Mean: 0.585 (Std: 0.047)\n",
      "Recall score: Mean: 0.000 (Std: 0.000)\n",
      "Precision score: Mean: 0.000 (Std: 0.000)\n",
      "Average Precision score: Mean: 0.245 (Std: 0.020)\n",
      "\n"
     ]
    },
    {
     "name": "stderr",
     "output_type": "stream",
     "text": [
      "\r",
      " 62%|███████████████████████████████████████████████████▎                              | 15/24 [00:47<00:23,  2.63s/it]"
     ]
    },
    {
     "name": "stdout",
     "output_type": "stream",
     "text": [
      "\n",
      "Scores for Infections and infestations\n",
      "\n",
      "Individual metrics\n",
      "F1 Micro Score: Mean: 0.710 (Std: 0.001)\n",
      "F1 Macro Score: Mean: 0.415 (Std: 0.000)\n",
      "F1 Binary Score: Mean: 0.830 (Std: 0.001)\n",
      "ROC-AUC score: Mean: 0.655 (Std: 0.032)\n",
      "Recall score: Mean: 1.000 (Std: 0.000)\n",
      "Precision score: Mean: 0.710 (Std: 0.001)\n",
      "Average Precision score: Mean: 0.815 (Std: 0.026)\n",
      "\n"
     ]
    },
    {
     "name": "stderr",
     "output_type": "stream",
     "text": [
      "\r",
      " 67%|██████████████████████████████████████████████████████▋                           | 16/24 [00:51<00:22,  2.84s/it]"
     ]
    },
    {
     "name": "stdout",
     "output_type": "stream",
     "text": [
      "\n",
      "Scores for Respiratory, thoracic and mediastinal disorders\n",
      "\n",
      "Individual metrics\n",
      "F1 Micro Score: Mean: 0.748 (Std: 0.001)\n",
      "F1 Macro Score: Mean: 0.428 (Std: 0.000)\n",
      "F1 Binary Score: Mean: 0.856 (Std: 0.001)\n",
      "ROC-AUC score: Mean: 0.558 (Std: 0.038)\n",
      "Recall score: Mean: 1.000 (Std: 0.000)\n",
      "Precision score: Mean: 0.748 (Std: 0.001)\n",
      "Average Precision score: Mean: 0.793 (Std: 0.016)\n",
      "\n"
     ]
    },
    {
     "name": "stderr",
     "output_type": "stream",
     "text": [
      "\r",
      " 71%|██████████████████████████████████████████████████████████                        | 17/24 [00:54<00:20,  2.94s/it]"
     ]
    },
    {
     "name": "stdout",
     "output_type": "stream",
     "text": [
      "\n",
      "Scores for Psychiatric disorders\n",
      "\n",
      "Individual metrics\n",
      "F1 Micro Score: Mean: 0.699 (Std: 0.001)\n",
      "F1 Macro Score: Mean: 0.412 (Std: 0.000)\n",
      "F1 Binary Score: Mean: 0.823 (Std: 0.001)\n",
      "ROC-AUC score: Mean: 0.618 (Std: 0.027)\n",
      "Recall score: Mean: 1.000 (Std: 0.000)\n",
      "Precision score: Mean: 0.699 (Std: 0.001)\n",
      "Average Precision score: Mean: 0.773 (Std: 0.027)\n",
      "\n"
     ]
    },
    {
     "name": "stderr",
     "output_type": "stream",
     "text": [
      "\r",
      " 75%|█████████████████████████████████████████████████████████████▌                    | 18/24 [00:57<00:18,  3.11s/it]"
     ]
    },
    {
     "name": "stdout",
     "output_type": "stream",
     "text": [
      "\n",
      "Scores for Renal and urinary disorders\n",
      "\n",
      "Individual metrics\n",
      "F1 Micro Score: Mean: 0.641 (Std: 0.001)\n",
      "F1 Macro Score: Mean: 0.390 (Std: 0.000)\n",
      "F1 Binary Score: Mean: 0.781 (Std: 0.000)\n",
      "ROC-AUC score: Mean: 0.645 (Std: 0.046)\n",
      "Recall score: Mean: 1.000 (Std: 0.000)\n",
      "Precision score: Mean: 0.641 (Std: 0.001)\n",
      "Average Precision score: Mean: 0.756 (Std: 0.037)\n",
      "\n"
     ]
    },
    {
     "name": "stderr",
     "output_type": "stream",
     "text": [
      "\r",
      " 79%|████████████████████████████████████████████████████████████████▉                 | 19/24 [01:02<00:17,  3.57s/it]"
     ]
    },
    {
     "name": "stdout",
     "output_type": "stream",
     "text": [
      "\n",
      "Scores for Pregnancy, puerperium and perinatal conditions\n",
      "\n",
      "Individual metrics\n",
      "F1 Micro Score: Mean: 0.915 (Std: 0.002)\n",
      "F1 Macro Score: Mean: 0.478 (Std: 0.001)\n",
      "F1 Binary Score: Mean: 0.000 (Std: 0.000)\n",
      "ROC-AUC score: Mean: 0.514 (Std: 0.093)\n",
      "Recall score: Mean: 0.000 (Std: 0.000)\n",
      "Precision score: Mean: 0.000 (Std: 0.000)\n",
      "Average Precision score: Mean: 0.129 (Std: 0.027)\n",
      "\n"
     ]
    },
    {
     "name": "stderr",
     "output_type": "stream",
     "text": [
      "\r",
      " 83%|████████████████████████████████████████████████████████████████████▎             | 20/24 [01:04<00:11,  2.96s/it]"
     ]
    },
    {
     "name": "stdout",
     "output_type": "stream",
     "text": [
      "\n",
      "Scores for Ear and labyrinth disorders\n",
      "\n",
      "Individual metrics\n",
      "F1 Micro Score: Mean: 0.552 (Std: 0.001)\n",
      "F1 Macro Score: Mean: 0.356 (Std: 0.000)\n",
      "F1 Binary Score: Mean: 0.000 (Std: 0.000)\n",
      "ROC-AUC score: Mean: 0.620 (Std: 0.024)\n",
      "Recall score: Mean: 0.000 (Std: 0.000)\n",
      "Precision score: Mean: 0.000 (Std: 0.000)\n",
      "Average Precision score: Mean: 0.577 (Std: 0.011)\n",
      "\n"
     ]
    },
    {
     "name": "stderr",
     "output_type": "stream",
     "text": [
      "\r",
      " 88%|███████████████████████████████████████████████████████████████████████▊          | 21/24 [01:08<00:10,  3.57s/it]"
     ]
    },
    {
     "name": "stdout",
     "output_type": "stream",
     "text": [
      "\n",
      "Scores for Cardiac disorders\n",
      "\n",
      "Individual metrics\n",
      "F1 Micro Score: Mean: 0.693 (Std: 0.001)\n",
      "F1 Macro Score: Mean: 0.409 (Std: 0.000)\n",
      "F1 Binary Score: Mean: 0.819 (Std: 0.000)\n",
      "ROC-AUC score: Mean: 0.641 (Std: 0.022)\n",
      "Recall score: Mean: 1.000 (Std: 0.000)\n",
      "Precision score: Mean: 0.693 (Std: 0.001)\n",
      "Average Precision score: Mean: 0.795 (Std: 0.017)\n",
      "\n"
     ]
    },
    {
     "name": "stderr",
     "output_type": "stream",
     "text": [
      "\r",
      " 92%|███████████████████████████████████████████████████████████████████████████▏      | 22/24 [01:12<00:07,  3.59s/it]"
     ]
    },
    {
     "name": "stdout",
     "output_type": "stream",
     "text": [
      "\n",
      "Scores for Nervous system disorders\n",
      "\n",
      "Individual metrics\n",
      "F1 Micro Score: Mean: 0.919 (Std: 0.002)\n",
      "F1 Macro Score: Mean: 0.479 (Std: 0.000)\n",
      "F1 Binary Score: Mean: 0.958 (Std: 0.001)\n",
      "ROC-AUC score: Mean: 0.633 (Std: 0.053)\n",
      "Recall score: Mean: 1.000 (Std: 0.000)\n",
      "Precision score: Mean: 0.919 (Std: 0.002)\n",
      "Average Precision score: Mean: 0.954 (Std: 0.010)\n",
      "\n"
     ]
    },
    {
     "name": "stderr",
     "output_type": "stream",
     "text": [
      "\r",
      " 96%|██████████████████████████████████████████████████████████████████████████████▌   | 23/24 [01:13<00:02,  2.91s/it]"
     ]
    },
    {
     "name": "stdout",
     "output_type": "stream",
     "text": [
      "\n",
      "Scores for Injury, poisoning and procedural complications\n",
      "\n",
      "Individual metrics\n",
      "F1 Micro Score: Mean: 0.665 (Std: 0.001)\n",
      "F1 Macro Score: Mean: 0.399 (Std: 0.000)\n",
      "F1 Binary Score: Mean: 0.799 (Std: 0.001)\n",
      "ROC-AUC score: Mean: 0.568 (Std: 0.045)\n",
      "Recall score: Mean: 1.000 (Std: 0.000)\n",
      "Precision score: Mean: 0.665 (Std: 0.001)\n",
      "Average Precision score: Mean: 0.730 (Std: 0.024)\n",
      "\n"
     ]
    },
    {
     "name": "stderr",
     "output_type": "stream",
     "text": [
      "100%|██████████████████████████████████████████████████████████████████████████████████| 24/24 [01:17<00:00,  3.11s/it]\n"
     ]
    }
   ],
   "source": [
    "print(\"SVC\")\n",
    "print(\"Base SVC without balancing:\")\n",
    "base_svc_report = cv_multi_report(X_train_dic, y_train, out_names, SVC(gamma=\"auto\", random_state=seed), n_splits=5,\n",
    "                                  n_jobs=-2, verbose=False)"
   ]
  },
  {
   "cell_type": "code",
   "execution_count": null,
   "metadata": {},
   "outputs": [],
   "source": []
  }
 ],
 "metadata": {
  "kernelspec": {
   "display_name": "Python 3",
   "language": "python",
   "name": "python3"
  },
  "language_info": {
   "codemirror_mode": {
    "name": "ipython",
    "version": 3
   },
   "file_extension": ".py",
   "mimetype": "text/x-python",
   "name": "python",
   "nbconvert_exporter": "python",
   "pygments_lexer": "ipython3",
   "version": "3.6.8"
  }
 },
 "nbformat": 4,
 "nbformat_minor": 2
}
